{
 "cells": [
  {
   "cell_type": "code",
   "execution_count": 1,
   "id": "ecef0bf0-e7b2-466f-be1a-97fd67b68938",
   "metadata": {},
   "outputs": [],
   "source": [
    "import tensorflow as tf\n",
    "from keras.preprocessing.image import ImageDataGenerator\n",
    "import matplotlib.pyplot as plt"
   ]
  },
  {
   "cell_type": "code",
   "execution_count": 2,
   "id": "4274419a-1182-48ba-9c83-c7b2df244663",
   "metadata": {},
   "outputs": [
    {
     "name": "stdout",
     "output_type": "stream",
     "text": [
      "Found 12143 images belonging to 2 classes.\n"
     ]
    }
   ],
   "source": [
    "train_datagen = ImageDataGenerator(rescale = 1./255,\n",
    "                                   shear_range = 0.2,\n",
    "                                   zoom_range = 0.2,\n",
    "                                   horizontal_flip = True)\n",
    "training_set = train_datagen.flow_from_directory('D:/archive (1)/Driver Drowsiness Dataset (DDD)',\n",
    "                                                target_size = (64, 64),\n",
    "                                                batch_size = 32,\n",
    "                                                class_mode = 'binary')"
   ]
  },
  {
   "cell_type": "code",
   "execution_count": 3,
   "id": "cb4fda6b-b146-44c2-87c3-322f4932fdf2",
   "metadata": {},
   "outputs": [
    {
     "name": "stdout",
     "output_type": "stream",
     "text": [
      "Found 4614 images belonging to 2 classes.\n"
     ]
    }
   ],
   "source": [
    "test_datagen = ImageDataGenerator(rescale = 1./255)\n",
    "test_set = test_datagen.flow_from_directory('D:/archive (1)/Testing',\n",
    "                                           target_size = (64, 64),\n",
    "                                           batch_size = 32,\n",
    "                                           class_mode = 'binary')"
   ]
  },
  {
   "cell_type": "code",
   "execution_count": 4,
   "id": "b52aaafa-3259-4c02-9ba3-a9175b5027be",
   "metadata": {},
   "outputs": [],
   "source": [
    "cnn = tf.keras.models.Sequential()"
   ]
  },
  {
   "cell_type": "code",
   "execution_count": 5,
   "id": "78c970ae-a768-4d33-bf20-0ddac340dcbf",
   "metadata": {},
   "outputs": [],
   "source": [
    "cnn.add(tf.keras.layers.Conv2D(filters = 32, kernel_size = 3, activation = 'relu', input_shape = [64, 64, 3]))"
   ]
  },
  {
   "cell_type": "code",
   "execution_count": 6,
   "id": "650dff29-ab0a-471c-a292-fc3b4e4c604e",
   "metadata": {},
   "outputs": [],
   "source": [
    "cnn.add(tf.keras.layers.MaxPool2D(pool_size = 2, strides = 2))"
   ]
  },
  {
   "cell_type": "code",
   "execution_count": 7,
   "id": "f0667bfd-b198-4116-9d93-b0d7fe807a74",
   "metadata": {},
   "outputs": [],
   "source": [
    "cnn.add(tf.keras.layers.Conv2D(filters = 32, kernel_size = 3, activation = 'relu', input_shape = [64, 64, 3]))\n",
    "cnn.add(tf.keras.layers.MaxPool2D(pool_size = 2, strides = 2))"
   ]
  },
  {
   "cell_type": "code",
   "execution_count": 8,
   "id": "3baa1d49-53b6-47c6-9f09-3f5028a13bd1",
   "metadata": {},
   "outputs": [],
   "source": [
    "cnn.add(tf.keras.layers.Flatten())"
   ]
  },
  {
   "cell_type": "code",
   "execution_count": 9,
   "id": "9fc19159-52aa-4d84-ae0a-eb7d75164634",
   "metadata": {},
   "outputs": [],
   "source": [
    "cnn.add(tf.keras.layers.Dense(units = 128, activation = 'relu'))"
   ]
  },
  {
   "cell_type": "code",
   "execution_count": 10,
   "id": "b11c3162-1ee1-435e-8715-a00f782c52de",
   "metadata": {},
   "outputs": [],
   "source": [
    "cnn.add(tf.keras.layers.Dense(units = 1, activation = 'sigmoid'))"
   ]
  },
  {
   "cell_type": "code",
   "execution_count": 11,
   "id": "a3b697d3-60cb-41f5-9908-dd1b3bf44cd6",
   "metadata": {},
   "outputs": [],
   "source": [
    "cnn.compile(optimizer = 'adam', loss = 'binary_crossentropy', metrics = ['accuracy'])"
   ]
  },
  {
   "cell_type": "code",
   "execution_count": 12,
   "id": "80f5f5c2-50e6-4272-9a2b-8ef4f9e0ba52",
   "metadata": {},
   "outputs": [
    {
     "name": "stdout",
     "output_type": "stream",
     "text": [
      "Epoch 1/10\n",
      "380/380 [==============================] - 414s 1s/step - loss: 0.1895 - accuracy: 0.9200 - val_loss: 1.5284 - val_accuracy: 0.7692\n",
      "Epoch 2/10\n",
      "380/380 [==============================] - 360s 946ms/step - loss: 0.0126 - accuracy: 0.9967 - val_loss: 4.0294 - val_accuracy: 0.7443\n",
      "Epoch 3/10\n",
      "380/380 [==============================] - 302s 794ms/step - loss: 0.0110 - accuracy: 0.9967 - val_loss: 4.0920 - val_accuracy: 0.7384\n",
      "Epoch 4/10\n",
      "380/380 [==============================] - 260s 685ms/step - loss: 0.0035 - accuracy: 0.9988 - val_loss: 5.4078 - val_accuracy: 0.7278\n",
      "Epoch 5/10\n",
      "380/380 [==============================] - 257s 676ms/step - loss: 0.0096 - accuracy: 0.9971 - val_loss: 5.3463 - val_accuracy: 0.7328\n",
      "Epoch 6/10\n",
      "380/380 [==============================] - 274s 720ms/step - loss: 0.0040 - accuracy: 0.9990 - val_loss: 6.7262 - val_accuracy: 0.5546\n",
      "Epoch 7/10\n",
      "380/380 [==============================] - 233s 612ms/step - loss: 0.0070 - accuracy: 0.9976 - val_loss: 6.6685 - val_accuracy: 0.7566\n",
      "Epoch 8/10\n",
      "380/380 [==============================] - 237s 624ms/step - loss: 0.0069 - accuracy: 0.9974 - val_loss: 7.6540 - val_accuracy: 0.6264\n",
      "Epoch 9/10\n",
      "380/380 [==============================] - 226s 594ms/step - loss: 0.0018 - accuracy: 0.9994 - val_loss: 8.1707 - val_accuracy: 0.5620\n",
      "Epoch 10/10\n",
      "380/380 [==============================] - 257s 677ms/step - loss: 0.0080 - accuracy: 0.9974 - val_loss: 7.7590 - val_accuracy: 0.5806\n"
     ]
    },
    {
     "data": {
      "text/plain": [
       "<tensorflow.python.keras.callbacks.History at 0x2c4c9859ac0>"
      ]
     },
     "execution_count": 12,
     "metadata": {},
     "output_type": "execute_result"
    }
   ],
   "source": [
    "cnn.fit(x = training_set, validation_data = test_set, epochs = 10)"
   ]
  },
  {
   "cell_type": "code",
   "execution_count": 13,
   "id": "dba0ec99-157b-4b90-a3d6-e86b7848628f",
   "metadata": {},
   "outputs": [],
   "source": [
    "import numpy as np\n",
    "from keras.preprocessing import image\n",
    "test_image = image.load_img(\"D:/archive (1)/Testing/Non-Drowsy/a0052.png\", target_size = (64, 64))\n",
    "test_image = image.img_to_array(test_image)\n",
    "test_image = np.expand_dims(test_image, axis = 0)\n",
    "result = cnn.predict(test_image)\n",
    "training_set.class_indices\n",
    "if result[0][0] == 1:\n",
    "  prediction = 'non_drowsy'\n",
    "else:\n",
    "  prediction = 'drowsy'"
   ]
  },
  {
   "cell_type": "code",
   "execution_count": 14,
   "id": "2cac5229-3070-4a33-9140-c02c093d7011",
   "metadata": {},
   "outputs": [
    {
     "name": "stdout",
     "output_type": "stream",
     "text": [
      "non_drowsy\n"
     ]
    }
   ],
   "source": [
    "print(prediction)"
   ]
  },
  {
   "cell_type": "code",
   "execution_count": 15,
   "id": "77f9849f-91e3-4a4c-b3fa-fb9d647a8fd3",
   "metadata": {},
   "outputs": [
    {
     "name": "stdout",
     "output_type": "stream",
     "text": [
      "Model: \"sequential\"\n",
      "_________________________________________________________________\n",
      "Layer (type)                 Output Shape              Param #   \n",
      "=================================================================\n",
      "conv2d (Conv2D)              (None, 62, 62, 32)        896       \n",
      "_________________________________________________________________\n",
      "max_pooling2d (MaxPooling2D) (None, 31, 31, 32)        0         \n",
      "_________________________________________________________________\n",
      "conv2d_1 (Conv2D)            (None, 29, 29, 32)        9248      \n",
      "_________________________________________________________________\n",
      "max_pooling2d_1 (MaxPooling2 (None, 14, 14, 32)        0         \n",
      "_________________________________________________________________\n",
      "flatten (Flatten)            (None, 6272)              0         \n",
      "_________________________________________________________________\n",
      "dense (Dense)                (None, 128)               802944    \n",
      "_________________________________________________________________\n",
      "dense_1 (Dense)              (None, 1)                 129       \n",
      "=================================================================\n",
      "Total params: 813,217\n",
      "Trainable params: 813,217\n",
      "Non-trainable params: 0\n",
      "_________________________________________________________________\n"
     ]
    }
   ],
   "source": [
    "cnn.summary()"
   ]
  },
  {
   "cell_type": "code",
   "execution_count": 16,
   "id": "bc1fb629-d5ef-4e02-89a8-71f99c6d78c1",
   "metadata": {},
   "outputs": [],
   "source": [
    "test_image = image.load_img(\"D:/archive (1)/Testing/Drowsy/A0104.png\", target_size = (64, 64))\n",
    "test_image = image.img_to_array(test_image)\n",
    "test_image = np.expand_dims(test_image, axis = 0)\n",
    "result = cnn.predict(test_image)\n",
    "training_set.class_indices\n",
    "if result[0][0] == 1:\n",
    "  prediction = 'non_drowsy'\n",
    "else:\n",
    "  prediction = 'drowsy'"
   ]
  },
  {
   "cell_type": "code",
   "execution_count": 17,
   "id": "3eefce8f-ab36-4362-880c-5dc60e1cbf7d",
   "metadata": {},
   "outputs": [
    {
     "name": "stdout",
     "output_type": "stream",
     "text": [
      "drowsy\n"
     ]
    }
   ],
   "source": [
    "print(prediction)"
   ]
  },
  {
   "cell_type": "code",
   "execution_count": 18,
   "id": "867ddec8-5bb3-40d8-8691-c51cd1a25de0",
   "metadata": {},
   "outputs": [
    {
     "name": "stdout",
     "output_type": "stream",
     "text": [
      "Model: \"sequential\"\n",
      "_________________________________________________________________\n",
      "Layer (type)                 Output Shape              Param #   \n",
      "=================================================================\n",
      "conv2d (Conv2D)              (None, 62, 62, 32)        896       \n",
      "_________________________________________________________________\n",
      "max_pooling2d (MaxPooling2D) (None, 31, 31, 32)        0         \n",
      "_________________________________________________________________\n",
      "conv2d_1 (Conv2D)            (None, 29, 29, 32)        9248      \n",
      "_________________________________________________________________\n",
      "max_pooling2d_1 (MaxPooling2 (None, 14, 14, 32)        0         \n",
      "_________________________________________________________________\n",
      "flatten (Flatten)            (None, 6272)              0         \n",
      "_________________________________________________________________\n",
      "dense (Dense)                (None, 128)               802944    \n",
      "_________________________________________________________________\n",
      "dense_1 (Dense)              (None, 1)                 129       \n",
      "=================================================================\n",
      "Total params: 813,217\n",
      "Trainable params: 813,217\n",
      "Non-trainable params: 0\n",
      "_________________________________________________________________\n"
     ]
    }
   ],
   "source": [
    "cnn.summary()"
   ]
  }
 ],
 "metadata": {
  "kernelspec": {
   "display_name": "Python 3 (ipykernel)",
   "language": "python",
   "name": "python3"
  },
  "language_info": {
   "codemirror_mode": {
    "name": "ipython",
    "version": 3
   },
   "file_extension": ".py",
   "mimetype": "text/x-python",
   "name": "python",
   "nbconvert_exporter": "python",
   "pygments_lexer": "ipython3",
   "version": "3.8.12"
  }
 },
 "nbformat": 4,
 "nbformat_minor": 5
}
